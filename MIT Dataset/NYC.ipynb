{
 "cells": [
  {
   "cell_type": "code",
   "execution_count": 1,
   "metadata": {},
   "outputs": [
    {
     "name": "stdout",
     "output_type": "stream",
     "text": [
      "NYC.ipynb  subject1\r\n"
     ]
    }
   ],
   "source": [
    "!ls"
   ]
  },
  {
   "cell_type": "code",
   "execution_count": 2,
   "metadata": {},
   "outputs": [],
   "source": [
    "activities = './subject1/Activities.csv'\n",
    "sensors = './subject1/sensors.csv'\n",
    "activities_data = './subject1/activities_data.csv'"
   ]
  },
  {
   "cell_type": "code",
   "execution_count": 5,
   "metadata": {},
   "outputs": [],
   "source": [
    "import pandas as pd\n",
    "import numpy as np\n",
    "import os\n"
   ]
  },
  {
   "cell_type": "code",
   "execution_count": 15,
   "metadata": {},
   "outputs": [],
   "source": [
    "act_df = pd.read_csv(activities)\n",
    "sens_df = pd.read_csv(sensors)"
   ]
  },
  {
   "cell_type": "code",
   "execution_count": 122,
   "metadata": {},
   "outputs": [
    {
     "data": {
      "text/plain": [
       "51"
      ]
     },
     "execution_count": 122,
     "metadata": {},
     "output_type": "execute_result"
    }
   ],
   "source": []
  },
  {
   "cell_type": "code",
   "execution_count": 124,
   "metadata": {},
   "outputs": [
    {
     "data": {
      "text/html": [
       "<div>\n",
       "<style scoped>\n",
       "    .dataframe tbody tr th:only-of-type {\n",
       "        vertical-align: middle;\n",
       "    }\n",
       "\n",
       "    .dataframe tbody tr th {\n",
       "        vertical-align: top;\n",
       "    }\n",
       "\n",
       "    .dataframe thead th {\n",
       "        text-align: right;\n",
       "    }\n",
       "</style>\n",
       "<table border=\"1\" class=\"dataframe\">\n",
       "  <thead>\n",
       "    <tr style=\"text-align: right;\">\n",
       "      <th></th>\n",
       "      <th>Heading</th>\n",
       "      <th>Category</th>\n",
       "      <th>Subcategory</th>\n",
       "      <th>Code</th>\n",
       "    </tr>\n",
       "  </thead>\n",
       "  <tbody>\n",
       "    <tr>\n",
       "      <th>0</th>\n",
       "      <td>Employment related</td>\n",
       "      <td>Employment work at home</td>\n",
       "      <td>Work at home</td>\n",
       "      <td>1</td>\n",
       "    </tr>\n",
       "    <tr>\n",
       "      <th>1</th>\n",
       "      <td>Employment related</td>\n",
       "      <td>Travel employment</td>\n",
       "      <td>Going out to work</td>\n",
       "      <td>5</td>\n",
       "    </tr>\n",
       "    <tr>\n",
       "      <th>2</th>\n",
       "      <td>Personal needs</td>\n",
       "      <td>Eating</td>\n",
       "      <td>Eating</td>\n",
       "      <td>10</td>\n",
       "    </tr>\n",
       "    <tr>\n",
       "      <th>3</th>\n",
       "      <td>Personal needs</td>\n",
       "      <td>Personal hygiene</td>\n",
       "      <td>Toileting</td>\n",
       "      <td>15</td>\n",
       "    </tr>\n",
       "    <tr>\n",
       "      <th>4</th>\n",
       "      <td>Personal needs</td>\n",
       "      <td>Personal hygiene</td>\n",
       "      <td>Bathing</td>\n",
       "      <td>20</td>\n",
       "    </tr>\n",
       "    <tr>\n",
       "      <th>5</th>\n",
       "      <td>Personal needs</td>\n",
       "      <td>Personal hygiene</td>\n",
       "      <td>Grooming</td>\n",
       "      <td>25</td>\n",
       "    </tr>\n",
       "    <tr>\n",
       "      <th>6</th>\n",
       "      <td>Personal needs</td>\n",
       "      <td>Personal hygiene</td>\n",
       "      <td>Dressing</td>\n",
       "      <td>30</td>\n",
       "    </tr>\n",
       "    <tr>\n",
       "      <th>7</th>\n",
       "      <td>Personal needs</td>\n",
       "      <td>Personal hygiene</td>\n",
       "      <td>Washing hands</td>\n",
       "      <td>35</td>\n",
       "    </tr>\n",
       "    <tr>\n",
       "      <th>8</th>\n",
       "      <td>Personal needs</td>\n",
       "      <td>Personal medical</td>\n",
       "      <td>Taking medication</td>\n",
       "      <td>40</td>\n",
       "    </tr>\n",
       "    <tr>\n",
       "      <th>9</th>\n",
       "      <td>Personal needs</td>\n",
       "      <td>Sleeping</td>\n",
       "      <td>Sleeping</td>\n",
       "      <td>45</td>\n",
       "    </tr>\n",
       "    <tr>\n",
       "      <th>10</th>\n",
       "      <td>Personal needs</td>\n",
       "      <td>Talking on telephone</td>\n",
       "      <td>Talking on telephone</td>\n",
       "      <td>50</td>\n",
       "    </tr>\n",
       "    <tr>\n",
       "      <th>11</th>\n",
       "      <td>Personal needs</td>\n",
       "      <td>Resting</td>\n",
       "      <td>Resting</td>\n",
       "      <td>55</td>\n",
       "    </tr>\n",
       "    <tr>\n",
       "      <th>12</th>\n",
       "      <td>Domestic work</td>\n",
       "      <td>Preparing a meal</td>\n",
       "      <td>Preparing breakfast</td>\n",
       "      <td>60</td>\n",
       "    </tr>\n",
       "    <tr>\n",
       "      <th>13</th>\n",
       "      <td>Domestic work</td>\n",
       "      <td>Preparing a meal</td>\n",
       "      <td>Preparing lunch</td>\n",
       "      <td>65</td>\n",
       "    </tr>\n",
       "    <tr>\n",
       "      <th>14</th>\n",
       "      <td>Domestic work</td>\n",
       "      <td>Preparing a meal</td>\n",
       "      <td>Preparing dinner</td>\n",
       "      <td>70</td>\n",
       "    </tr>\n",
       "    <tr>\n",
       "      <th>15</th>\n",
       "      <td>Domestic work</td>\n",
       "      <td>Preparing a snack</td>\n",
       "      <td>Preparing a snack</td>\n",
       "      <td>75</td>\n",
       "    </tr>\n",
       "    <tr>\n",
       "      <th>16</th>\n",
       "      <td>Domestic work</td>\n",
       "      <td>Preparing a beverage</td>\n",
       "      <td>Preparing a beverage</td>\n",
       "      <td>80</td>\n",
       "    </tr>\n",
       "    <tr>\n",
       "      <th>17</th>\n",
       "      <td>Domestic work</td>\n",
       "      <td>Meal Cleanup</td>\n",
       "      <td>Washing dishes</td>\n",
       "      <td>85</td>\n",
       "    </tr>\n",
       "    <tr>\n",
       "      <th>18</th>\n",
       "      <td>Domestic work</td>\n",
       "      <td>Meal Cleanup</td>\n",
       "      <td>Putting away dishes</td>\n",
       "      <td>90</td>\n",
       "    </tr>\n",
       "    <tr>\n",
       "      <th>19</th>\n",
       "      <td>Domestic work</td>\n",
       "      <td>Putting away groceries</td>\n",
       "      <td>Putting away groceries</td>\n",
       "      <td>95</td>\n",
       "    </tr>\n",
       "    <tr>\n",
       "      <th>20</th>\n",
       "      <td>Domestic work</td>\n",
       "      <td>Clean house</td>\n",
       "      <td>Cleaning</td>\n",
       "      <td>100</td>\n",
       "    </tr>\n",
       "    <tr>\n",
       "      <th>21</th>\n",
       "      <td>Domestic work</td>\n",
       "      <td>Clean house</td>\n",
       "      <td>Doing laundry</td>\n",
       "      <td>105</td>\n",
       "    </tr>\n",
       "    <tr>\n",
       "      <th>22</th>\n",
       "      <td>Domestic work</td>\n",
       "      <td>Clean house</td>\n",
       "      <td>Putting away laundry</td>\n",
       "      <td>110</td>\n",
       "    </tr>\n",
       "    <tr>\n",
       "      <th>23</th>\n",
       "      <td>Domestic work</td>\n",
       "      <td>Outdoor chores</td>\n",
       "      <td>Taking out the trash</td>\n",
       "      <td>115</td>\n",
       "    </tr>\n",
       "    <tr>\n",
       "      <th>24</th>\n",
       "      <td>Domestic work</td>\n",
       "      <td>Outdoor chores</td>\n",
       "      <td>Lawnwork</td>\n",
       "      <td>120</td>\n",
       "    </tr>\n",
       "    <tr>\n",
       "      <th>25</th>\n",
       "      <td>Educational</td>\n",
       "      <td>Home education</td>\n",
       "      <td>Home education</td>\n",
       "      <td>125</td>\n",
       "    </tr>\n",
       "    <tr>\n",
       "      <th>26</th>\n",
       "      <td>Educational</td>\n",
       "      <td>Travel study</td>\n",
       "      <td>Going out to school</td>\n",
       "      <td>130</td>\n",
       "    </tr>\n",
       "    <tr>\n",
       "      <th>27</th>\n",
       "      <td>Leisure</td>\n",
       "      <td>Leisure</td>\n",
       "      <td>Watching TV</td>\n",
       "      <td>135</td>\n",
       "    </tr>\n",
       "    <tr>\n",
       "      <th>28</th>\n",
       "      <td>Leisure</td>\n",
       "      <td>Leisure</td>\n",
       "      <td>Listening to music</td>\n",
       "      <td>140</td>\n",
       "    </tr>\n",
       "    <tr>\n",
       "      <th>29</th>\n",
       "      <td>Entertainment and social life</td>\n",
       "      <td>Travel social</td>\n",
       "      <td>Going out for entertainment</td>\n",
       "      <td>145</td>\n",
       "    </tr>\n",
       "    <tr>\n",
       "      <th>30</th>\n",
       "      <td>Sports</td>\n",
       "      <td>Travel sports</td>\n",
       "      <td>Going out to exercise</td>\n",
       "      <td>150</td>\n",
       "    </tr>\n",
       "    <tr>\n",
       "      <th>31</th>\n",
       "      <td>Purchasing goods and services</td>\n",
       "      <td>Travel services</td>\n",
       "      <td>Going out for shopping</td>\n",
       "      <td>155</td>\n",
       "    </tr>\n",
       "    <tr>\n",
       "      <th>32</th>\n",
       "      <td>Other</td>\n",
       "      <td>Other</td>\n",
       "      <td>Other</td>\n",
       "      <td>160</td>\n",
       "    </tr>\n",
       "  </tbody>\n",
       "</table>\n",
       "</div>"
      ],
      "text/plain": [
       "                          Heading                 Category  \\\n",
       "0              Employment related  Employment work at home   \n",
       "1              Employment related        Travel employment   \n",
       "2                  Personal needs                   Eating   \n",
       "3                  Personal needs         Personal hygiene   \n",
       "4                  Personal needs         Personal hygiene   \n",
       "5                  Personal needs         Personal hygiene   \n",
       "6                  Personal needs         Personal hygiene   \n",
       "7                  Personal needs         Personal hygiene   \n",
       "8                  Personal needs         Personal medical   \n",
       "9                  Personal needs                 Sleeping   \n",
       "10                 Personal needs     Talking on telephone   \n",
       "11                 Personal needs                  Resting   \n",
       "12                  Domestic work         Preparing a meal   \n",
       "13                  Domestic work         Preparing a meal   \n",
       "14                  Domestic work         Preparing a meal   \n",
       "15                  Domestic work        Preparing a snack   \n",
       "16                  Domestic work     Preparing a beverage   \n",
       "17                  Domestic work             Meal Cleanup   \n",
       "18                  Domestic work             Meal Cleanup   \n",
       "19                  Domestic work   Putting away groceries   \n",
       "20                  Domestic work              Clean house   \n",
       "21                  Domestic work              Clean house   \n",
       "22                  Domestic work              Clean house   \n",
       "23                  Domestic work           Outdoor chores   \n",
       "24                  Domestic work           Outdoor chores   \n",
       "25                    Educational           Home education   \n",
       "26                    Educational             Travel study   \n",
       "27                        Leisure                  Leisure   \n",
       "28                        Leisure                  Leisure   \n",
       "29  Entertainment and social life            Travel social   \n",
       "30                         Sports            Travel sports   \n",
       "31  Purchasing goods and services          Travel services   \n",
       "32                          Other                    Other   \n",
       "\n",
       "                    Subcategory  Code  \n",
       "0                  Work at home     1  \n",
       "1             Going out to work     5  \n",
       "2                        Eating    10  \n",
       "3                     Toileting    15  \n",
       "4                       Bathing    20  \n",
       "5                      Grooming    25  \n",
       "6                      Dressing    30  \n",
       "7                 Washing hands    35  \n",
       "8             Taking medication    40  \n",
       "9                      Sleeping    45  \n",
       "10         Talking on telephone    50  \n",
       "11                      Resting    55  \n",
       "12          Preparing breakfast    60  \n",
       "13              Preparing lunch    65  \n",
       "14             Preparing dinner    70  \n",
       "15            Preparing a snack    75  \n",
       "16         Preparing a beverage    80  \n",
       "17               Washing dishes    85  \n",
       "18          Putting away dishes    90  \n",
       "19       Putting away groceries    95  \n",
       "20                     Cleaning   100  \n",
       "21                Doing laundry   105  \n",
       "22         Putting away laundry   110  \n",
       "23         Taking out the trash   115  \n",
       "24                     Lawnwork   120  \n",
       "25               Home education   125  \n",
       "26          Going out to school   130  \n",
       "27                  Watching TV   135  \n",
       "28           Listening to music   140  \n",
       "29  Going out for entertainment   145  \n",
       "30        Going out to exercise   150  \n",
       "31       Going out for shopping   155  \n",
       "32                        Other   160  "
      ]
     },
     "execution_count": 124,
     "metadata": {},
     "output_type": "execute_result"
    }
   ],
   "source": [
    "act_df"
   ]
  },
  {
   "cell_type": "code",
   "execution_count": 140,
   "metadata": {},
   "outputs": [
    {
     "data": {
      "text/html": [
       "<div>\n",
       "<style scoped>\n",
       "    .dataframe tbody tr th:only-of-type {\n",
       "        vertical-align: middle;\n",
       "    }\n",
       "\n",
       "    .dataframe tbody tr th {\n",
       "        vertical-align: top;\n",
       "    }\n",
       "\n",
       "    .dataframe thead th {\n",
       "        text-align: right;\n",
       "    }\n",
       "</style>\n",
       "<table border=\"1\" class=\"dataframe\">\n",
       "  <thead>\n",
       "    <tr style=\"text-align: right;\">\n",
       "      <th></th>\n",
       "      <th>Code</th>\n",
       "      <th>Location</th>\n",
       "      <th>Activity</th>\n",
       "    </tr>\n",
       "  </thead>\n",
       "  <tbody>\n",
       "    <tr>\n",
       "      <th>0</th>\n",
       "      <td>100</td>\n",
       "      <td>Bathroom</td>\n",
       "      <td>Toilet Flush</td>\n",
       "    </tr>\n",
       "    <tr>\n",
       "      <th>1</th>\n",
       "      <td>101</td>\n",
       "      <td>Bathroom</td>\n",
       "      <td>Light switch</td>\n",
       "    </tr>\n",
       "    <tr>\n",
       "      <th>2</th>\n",
       "      <td>104</td>\n",
       "      <td>Foyer</td>\n",
       "      <td>Light switch</td>\n",
       "    </tr>\n",
       "    <tr>\n",
       "      <th>3</th>\n",
       "      <td>105</td>\n",
       "      <td>Kitchen</td>\n",
       "      <td>Light switch</td>\n",
       "    </tr>\n",
       "    <tr>\n",
       "      <th>4</th>\n",
       "      <td>106</td>\n",
       "      <td>Kitchen</td>\n",
       "      <td>Burner</td>\n",
       "    </tr>\n",
       "    <tr>\n",
       "      <th>...</th>\n",
       "      <td>...</td>\n",
       "      <td>...</td>\n",
       "      <td>...</td>\n",
       "    </tr>\n",
       "    <tr>\n",
       "      <th>71</th>\n",
       "      <td>95</td>\n",
       "      <td>Kitchen</td>\n",
       "      <td>Light switch</td>\n",
       "    </tr>\n",
       "    <tr>\n",
       "      <th>72</th>\n",
       "      <td>96</td>\n",
       "      <td>Bathroom</td>\n",
       "      <td>Exhaust Fan</td>\n",
       "    </tr>\n",
       "    <tr>\n",
       "      <th>73</th>\n",
       "      <td>97</td>\n",
       "      <td>Living room</td>\n",
       "      <td>Light switch</td>\n",
       "    </tr>\n",
       "    <tr>\n",
       "      <th>74</th>\n",
       "      <td>98</td>\n",
       "      <td>Kitchen</td>\n",
       "      <td>Garbage disposal</td>\n",
       "    </tr>\n",
       "    <tr>\n",
       "      <th>75</th>\n",
       "      <td>99</td>\n",
       "      <td>Kitchen</td>\n",
       "      <td>Burner</td>\n",
       "    </tr>\n",
       "  </tbody>\n",
       "</table>\n",
       "<p>76 rows × 3 columns</p>\n",
       "</div>"
      ],
      "text/plain": [
       "    Code     Location          Activity\n",
       "0    100     Bathroom     Toilet Flush \n",
       "1    101     Bathroom      Light switch\n",
       "2    104        Foyer      Light switch\n",
       "3    105      Kitchen      Light switch\n",
       "4    106      Kitchen            Burner\n",
       "..   ...          ...               ...\n",
       "71    95      Kitchen      Light switch\n",
       "72    96     Bathroom       Exhaust Fan\n",
       "73    97  Living room      Light switch\n",
       "74    98      Kitchen  Garbage disposal\n",
       "75    99      Kitchen            Burner\n",
       "\n",
       "[76 rows x 3 columns]"
      ]
     },
     "execution_count": 140,
     "metadata": {},
     "output_type": "execute_result"
    }
   ],
   "source": [
    "sens_df"
   ]
  },
  {
   "cell_type": "code",
   "execution_count": 22,
   "metadata": {},
   "outputs": [],
   "source": [
    "with open(activities_data, 'r') as file:\n",
    "    data = file.readlines()"
   ]
  },
  {
   "cell_type": "code",
   "execution_count": 195,
   "metadata": {},
   "outputs": [
    {
     "name": "stdout",
     "output_type": "stream",
     "text": [
      "@ index 0\n",
      "@ index 5\n",
      "@ index 10\n",
      "@ index 15\n",
      "@ index 20\n",
      "@ index 25\n",
      "@ index 30\n",
      "@ index 35\n",
      "@ index 40\n",
      "@ index 45\n",
      "@ index 50\n",
      "@ index 55\n",
      "@ index 60\n",
      "@ index 65\n",
      "@ index 70\n",
      "@ index 75\n",
      "@ index 80\n",
      "@ index 85\n",
      "@ index 90\n",
      "@ index 95\n",
      "@ index 100\n",
      "@ index 105\n",
      "@ index 110\n",
      "@ index 115\n",
      "@ index 120\n",
      "@ index 125\n",
      "@ index 130\n",
      "@ index 135\n",
      "@ index 140\n",
      "@ index 145\n",
      "@ index 150\n",
      "@ index 155\n",
      "@ index 160\n",
      "@ index 165\n",
      "@ index 170\n",
      "@ index 175\n",
      "@ index 180\n",
      "@ index 185\n",
      "@ index 190\n",
      "@ index 195\n",
      "@ index 200\n",
      "@ index 205\n",
      "@ index 210\n",
      "@ index 215\n",
      "@ index 220\n",
      "@ index 225\n",
      "@ index 230\n",
      "@ index 235\n",
      "@ index 240\n",
      "@ index 245\n",
      "@ index 250\n",
      "@ index 255\n",
      "@ index 260\n",
      "@ index 265\n",
      "@ index 270\n",
      "@ index 275\n",
      "@ index 280\n",
      "@ index 285\n",
      "@ index 290\n"
     ]
    }
   ],
   "source": [
    "Y = []\n",
    "X = []\n",
    "for i in range(int(len(data)/5)):\n",
    "    try:\n",
    "        Y.append(data[i*5].split(',')[0])\n",
    "        X.append(data[i*(5)+1][:-1])\n",
    "    except:\n",
    "        print(f\"@ index {i*5}\")"
   ]
  },
  {
   "cell_type": "code",
   "execution_count": 107,
   "metadata": {},
   "outputs": [],
   "source": [
    "data = pd.DataFrame({'activites' : Y, 'activations' : X})"
   ]
  },
  {
   "cell_type": "code",
   "execution_count": 109,
   "metadata": {},
   "outputs": [],
   "source": [
    "data = data.merge(act_df, left_on='activites', right_on='Subcategory')"
   ]
  },
  {
   "cell_type": "code",
   "execution_count": 111,
   "metadata": {},
   "outputs": [],
   "source": [
    "data.drop(columns=['Heading', 'Category', 'Subcategory'], inplace=True)"
   ]
  },
  {
   "cell_type": "code",
   "execution_count": 212,
   "metadata": {},
   "outputs": [],
   "source": [
    "X = []\n",
    "Y = []\n",
    "for each in data.activations:\n",
    "    X.append(each.split(','))\n",
    "for each in data.Code:\n",
    "    Y.append(each)"
   ]
  },
  {
   "cell_type": "code",
   "execution_count": 213,
   "metadata": {},
   "outputs": [
    {
     "name": "stdout",
     "output_type": "stream",
     "text": [
      "156\n"
     ]
    }
   ],
   "source": [
    "max_len = 0\n",
    "for each in X:\n",
    "    if len(each) > max_len:\n",
    "        max_len = len(each)\n",
    "print(max_len)"
   ]
  },
  {
   "cell_type": "code",
   "execution_count": 214,
   "metadata": {},
   "outputs": [
    {
     "data": {
      "text/plain": [
       "295"
      ]
     },
     "execution_count": 214,
     "metadata": {},
     "output_type": "execute_result"
    }
   ],
   "source": [
    "len(X)"
   ]
  },
  {
   "cell_type": "code",
   "execution_count": 215,
   "metadata": {},
   "outputs": [],
   "source": [
    "act2idx = {}\n",
    "codes = np.array(act_df.Code)\n",
    "Cat = np.array(act_df.Subcategory)\n",
    "for i in range(len(codes)):\n",
    "    act2idx[Cat[i]] = codes[i]"
   ]
  },
  {
   "cell_type": "code",
   "execution_count": 216,
   "metadata": {},
   "outputs": [],
   "source": [
    "obs2idx = {}\n",
    "codes = np.array(sens_df.Code)\n",
    "Loc = np.array(sens_df.Location)\n",
    "Obs = np.array(sens_df.Activity)\n",
    "for i in range(len(codes)):\n",
    "    s =Obs[i] + \" @ \" + Loc[i] \n",
    "    obs2idx[s] = codes[i]"
   ]
  },
  {
   "cell_type": "code",
   "execution_count": 217,
   "metadata": {},
   "outputs": [
    {
     "data": {
      "text/plain": [
       "{'Work at home': 1,\n",
       " 'Going out to work': 5,\n",
       " 'Eating': 10,\n",
       " 'Toileting': 15,\n",
       " 'Bathing': 20,\n",
       " 'Grooming': 25,\n",
       " 'Dressing': 30,\n",
       " 'Washing hands': 35,\n",
       " 'Taking medication': 40,\n",
       " 'Sleeping': 45,\n",
       " 'Talking on telephone': 50,\n",
       " 'Resting': 55,\n",
       " 'Preparing breakfast': 60,\n",
       " 'Preparing lunch': 65,\n",
       " 'Preparing dinner': 70,\n",
       " 'Preparing a snack': 75,\n",
       " 'Preparing a beverage': 80,\n",
       " 'Washing dishes': 85,\n",
       " 'Putting away dishes': 90,\n",
       " 'Putting away groceries': 95,\n",
       " 'Cleaning': 100,\n",
       " 'Doing laundry': 105,\n",
       " 'Putting away laundry': 110,\n",
       " 'Taking out the trash': 115,\n",
       " 'Lawnwork': 120,\n",
       " 'Home education': 125,\n",
       " 'Going out to school': 130,\n",
       " 'Watching TV': 135,\n",
       " 'Listening to music': 140,\n",
       " 'Going out for entertainment': 145,\n",
       " 'Going out to exercise': 150,\n",
       " 'Going out for shopping': 155,\n",
       " 'Other': 160}"
      ]
     },
     "execution_count": 217,
     "metadata": {},
     "output_type": "execute_result"
    }
   ],
   "source": [
    "act2idx"
   ]
  },
  {
   "cell_type": "code",
   "execution_count": 218,
   "metadata": {},
   "outputs": [
    {
     "data": {
      "text/plain": [
       "{'Toilet Flush  @ Bathroom': 100,\n",
       " 'Light switch @ Bathroom': 101,\n",
       " 'Light switch @ Foyer': 104,\n",
       " 'Light switch @ Kitchen': 95,\n",
       " 'Burner @ Kitchen': 99,\n",
       " 'Light switch @ Living room': 97,\n",
       " 'Light switch @ Bedroom': 108,\n",
       " 'Light switch @ Porch': 109,\n",
       " 'Coffee machine @ Kitchen': 119,\n",
       " 'Drawer @ Kitchen': 87,\n",
       " 'Refrigerator @ Kitchen': 91,\n",
       " 'Oven @ Kitchen': 129,\n",
       " 'Door @ Bathroom': 130,\n",
       " 'Toaster @ Kitchen': 131,\n",
       " 'Cabinet @ Kitchen': 89,\n",
       " 'Window @ Kitchen': 136,\n",
       " 'Freezer @ Kitchen': 137,\n",
       " 'Jewelry box @ Bedroom': 139,\n",
       " 'Door @ Foyer': 140,\n",
       " 'Door @ Kitchen': 54,\n",
       " 'Washing Machine @ Kitchen': 142,\n",
       " 'Microwave @ Kitchen': 143,\n",
       " 'Cereal @ Kitchen': 145,\n",
       " 'Drawer @ Bedroom': 86,\n",
       " 'DVD  @ Living room': 56,\n",
       " 'Medicine cabinet @ Bathroom': 58,\n",
       " 'Containers @ Kitchen': 60,\n",
       " 'Lamp @ Bedroom': 64,\n",
       " 'Cabinet @ Bathroom': 79,\n",
       " 'Sink faucet - hot @ Bathroom': 68,\n",
       " 'Dishwasher @ Kitchen': 70,\n",
       " 'Lamp @ Living room': 76,\n",
       " 'Closet @ Foyer': 81,\n",
       " 'Drawer @ Office/study': 82,\n",
       " 'Window @ Bedroom': 85,\n",
       " 'Sink faucet - cold @ Bathroom': 88,\n",
       " 'Laundry Dryer @ Kitchen': 90,\n",
       " 'Light switch @ Office/study': 92,\n",
       " 'Shower faucet @ Bathroom': 93,\n",
       " 'Exhaust Fan @ Bathroom': 96,\n",
       " 'Garbage disposal @ Kitchen': 98}"
      ]
     },
     "execution_count": 218,
     "metadata": {},
     "output_type": "execute_result"
    }
   ],
   "source": [
    "obs2idx"
   ]
  },
  {
   "cell_type": "code",
   "execution_count": 219,
   "metadata": {},
   "outputs": [],
   "source": [
    "idx2act = list(act2idx.keys())\n",
    "idx2obs = list(obs2idx.keys())"
   ]
  },
  {
   "cell_type": "code",
   "execution_count": 220,
   "metadata": {},
   "outputs": [],
   "source": [
    "enc_dec = (idx2act, idx2obs, act2idx, obs2idx)"
   ]
  },
  {
   "cell_type": "code",
   "execution_count": 221,
   "metadata": {},
   "outputs": [],
   "source": [
    "from keras.preprocessing import sequence"
   ]
  },
  {
   "cell_type": "code",
   "execution_count": 222,
   "metadata": {},
   "outputs": [],
   "source": [
    "MAX_LEN = 200\n",
    "# convert to numpy arrays\n",
    "X = np.array(X, dtype=object)\n",
    "Y = np.array(Y, dtype=object)\n",
    "enc_dec = np.array(enc_dec, dtype=object)\n",
    "X = sequence.pad_sequences(X, maxlen=MAX_LEN, dtype=np.int32)"
   ]
  },
  {
   "cell_type": "code",
   "execution_count": 223,
   "metadata": {},
   "outputs": [
    {
     "name": "stdout",
     "output_type": "stream",
     "text": [
      "saved\n"
     ]
    }
   ],
   "source": [
    "save_to = f\"./MIT_Subject1\"\n",
    "np.save(save_to + '_X.npy', X)\n",
    "np.save(save_to + '_Y.npy', Y)\n",
    "np.save(save_to + '_ENCDEC.npy', enc_dec)\n",
    "print('saved')"
   ]
  },
  {
   "cell_type": "code",
   "execution_count": 209,
   "metadata": {},
   "outputs": [],
   "source": [
    "data.loc[(data.Code == 145) | (data.Code == 120) | (data.Code == 35), ['Code']] = 160"
   ]
  },
  {
   "cell_type": "code",
   "execution_count": 224,
   "metadata": {},
   "outputs": [
    {
     "data": {
      "text/plain": [
       "15     84\n",
       "25     37\n",
       "30     24\n",
       "105    19\n",
       "20     18\n",
       "65     17\n",
       "80     15\n",
       "75     15\n",
       "60     14\n",
       "5      12\n",
       "100     9\n",
       "70      8\n",
       "85      8\n",
       "160     4\n",
       "135     3\n",
       "155     2\n",
       "90      2\n",
       "95      2\n",
       "110     2\n",
       "Name: Code, dtype: int64"
      ]
     },
     "execution_count": 224,
     "metadata": {},
     "output_type": "execute_result"
    }
   ],
   "source": [
    "data.Code.value_counts()"
   ]
  },
  {
   "cell_type": "code",
   "execution_count": 225,
   "metadata": {},
   "outputs": [
    {
     "name": "stdout",
     "output_type": "stream",
     "text": [
      "Frequency of unique values of the said array:\n",
      "[[5 15 20 25 30 60 65 70 75 80 85 90 95 100 105 110 135 155 160]\n",
      " [12 84 18 37 24 14 17 8 15 15 8 2 2 9 19 2 3 2 4]]\n"
     ]
    }
   ],
   "source": [
    "unique_elements, counts_elements = np.unique(Y, return_counts=True)\n",
    "print(\"Frequency of unique values of the said array:\")\n",
    "print(np.asarray((unique_elements, counts_elements)))"
   ]
  },
  {
   "cell_type": "code",
   "execution_count": null,
   "metadata": {},
   "outputs": [],
   "source": []
  }
 ],
 "metadata": {
  "kernelspec": {
   "display_name": "Python 3",
   "language": "python",
   "name": "python3"
  },
  "language_info": {
   "codemirror_mode": {
    "name": "ipython",
    "version": 3
   },
   "file_extension": ".py",
   "mimetype": "text/x-python",
   "name": "python",
   "nbconvert_exporter": "python",
   "pygments_lexer": "ipython3",
   "version": "3.8.5"
  }
 },
 "nbformat": 4,
 "nbformat_minor": 4
}
